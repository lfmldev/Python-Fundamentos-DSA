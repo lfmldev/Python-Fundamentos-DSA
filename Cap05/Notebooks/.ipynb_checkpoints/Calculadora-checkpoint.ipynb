{
 "cells": [
  {
   "cell_type": "code",
   "execution_count": 12,
   "id": "10ff0132",
   "metadata": {},
   "outputs": [],
   "source": [
    "def calculadora(n1, n2):    \n",
    "    # Titulo:\n",
    "    print(\"****************************Calculadora em Python****************************\")\n",
    "\n",
    "    # Receber a operação desejada:\n",
    "    operacao = int(input(\"Selecione a operação desejada: \\n 1 - Soma \\n 2 - Subtração \\n 3 - Multiplicação \\n 4 - Divisão \\n\"))\n",
    "\n",
    "    # Receber os números para o cálculo:\n",
    "    # n1 = int(input(\"Digite o primeiro número: \"))\n",
    "    # n2 = int(input(\"Digite o segundo número: \"))\n",
    "\n",
    "    # Preparar as operações em funções: \n",
    "    soma = lambda n1,n2 : n1 + n2\n",
    "    subtracao = lambda n1, n2 : n1 - n2\n",
    "    multiplicacao = lambda n1, n2 : n1 * n2\n",
    "    divisao = lambda n1, n2 : n1 / n2\n",
    "\n",
    "    # Executar as operações utilizando as funções criadas:\n",
    "    if operacao == 1:\n",
    "        resultado = soma(n1, n2)\n",
    "        print(\"%r + %r = %r\" %(n1, n2, resultado))\n",
    "    elif operacao == 2:\n",
    "        resultado = subtracao(n1, n2)\n",
    "        print(\"%r - %r = %r\" %(n1, n2, resultado))\n",
    "    elif operacao == 3:\n",
    "        resultado = multiplicacao(n1, n2)\n",
    "        print(\"%r * %r = %r\" %(n1, n2, resultado))\n",
    "    else:\n",
    "        resultado = divisao(n1,n2)\n",
    "        print(\"%r / %r = %r\" %(n1, n2, resultado))\n",
    "    "
   ]
  },
  {
   "cell_type": "code",
   "execution_count": 14,
   "id": "031a6aa1",
   "metadata": {},
   "outputs": [
    {
     "name": "stdout",
     "output_type": "stream",
     "text": [
      "****************************Calculadora em Python****************************\n",
      "Selecione a operação desejada: \n",
      " 1 - Soma \n",
      " 2 - Subtração \n",
      " 3 - Multiplicação \n",
      " 4 - Divisão \n",
      "4\n",
      "9 / 3 = 3.0\n"
     ]
    }
   ],
   "source": [
    "calculadora(9,3)"
   ]
  },
  {
   "cell_type": "code",
   "execution_count": null,
   "id": "fa40919c",
   "metadata": {},
   "outputs": [],
   "source": []
  }
 ],
 "metadata": {
  "kernelspec": {
   "display_name": "Python 3 (ipykernel)",
   "language": "python",
   "name": "python3"
  },
  "language_info": {
   "codemirror_mode": {
    "name": "ipython",
    "version": 3
   },
   "file_extension": ".py",
   "mimetype": "text/x-python",
   "name": "python",
   "nbconvert_exporter": "python",
   "pygments_lexer": "ipython3",
   "version": "3.9.13"
  }
 },
 "nbformat": 4,
 "nbformat_minor": 5
}
