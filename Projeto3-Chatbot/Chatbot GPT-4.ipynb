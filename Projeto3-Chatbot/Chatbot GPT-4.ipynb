{
 "cells": [
  {
   "cell_type": "code",
   "execution_count": null,
   "id": "8f3f8bf1",
   "metadata": {},
   "outputs": [],
   "source": [
    "pip install openai"
   ]
  },
  {
   "cell_type": "code",
   "execution_count": null,
   "id": "988befb2",
   "metadata": {},
   "outputs": [],
   "source": [
    "pip install requests"
   ]
  },
  {
   "cell_type": "code",
   "execution_count": null,
   "id": "ada95225",
   "metadata": {},
   "outputs": [],
   "source": [
    "# Projeto de Chatbot personalizado com GPT-4 e Python da Data Science Academy\n",
    "\n",
    "# Import\n",
    "import openai\n",
    "\n",
    "# Chave\n",
    "openai.api_key = \"coloque sua chave aqui!!!\"\n",
    "\n",
    "# Função para gerar texto a partir de um modelo de linguagem\n",
    "def gera_texto(texto):\n",
    "\n",
    "\t# Obtém a resposta do modelo de linguagem\n",
    "\tresponse = openai.Completion.create(\n",
    "\n",
    "\t\t# Modelo usado\n",
    "\t\t# Outros modelos estão disponíveis em https://platform.openai.com/account/rate-limits\n",
    "\t\tengine = \"text-davinci-003\",\n",
    "\n",
    "\t\t# Texto inicial da conversa com o chatbot.\n",
    "\t\tprompt = texto,\n",
    "\n",
    "\t\t# Comprimento da resposta gerada pelo modelo\n",
    "\t\tmax_tokens = 150,\n",
    "\n",
    "\t\t# Quantas conclusões gerar para cada prompt.\n",
    "\t\tn = 5,\n",
    "\n",
    "\t\t# O texto retornado não conterá a sequencia de parada.\n",
    "\t\tstop = None,\n",
    "\n",
    "\t\t# Uma medida de aleatoriedade de um texto gerado pelo modelo. Seu valor está entre 0 e 1.\n",
    "\t\t# Valores próximo a 1 significam que a saída é mais aleatória, \n",
    "\t\t# enquanto valores próximos a 0 significam que a saída é muito identificável.\n",
    "\t\ttemperature = 0.8,\n",
    "\t)\n",
    "\n",
    "\treturn response.choices[0].text.strip()\n",
    "\n",
    "# Função principal do programa em Python\n",
    "def main():\n",
    "\n",
    "\tprint(\"\\nBem- vindo ao GPT-4 Chatbot do projeto 3 do curso da Data Science Academy.\")\n",
    "\tprint(\"www.datascienceacademy.com.br\")\n",
    "\tprint(\"(Digite 'sair' a qualquer momento para encerrar o chat)\")\n",
    "\n",
    "\t# Loop\n",
    "\twhile True:\n",
    "\n",
    "\t\t# Coleta a pergunta digitada pelo usuário.\n",
    "\t\tuser_message = input(\"\\nVocê: \")\n",
    "\n",
    "\t\t# Se a mensagem for \"sair\", finaliza o programa.\n",
    "\t\tif user_message.lower() == \"sair\":\n",
    "\t\t\tbreak\n",
    "\n",
    "\t\t# Coloca a mensagem digitada pelo usuário na variável Python chamada gpt4_prompt.\n",
    "\t\tgpt4_prompt = f\"\\nUsuário: {user_message}\\nChatbot:\"\n",
    "\n",
    "\t\t# Obtém a resposta do modelo executando a função gera_texto().\n",
    "\t\tchatbot_response = gera_texto(gpt4_prompt)\n",
    "\n",
    "\t\t# imprime a resposta do chatbot.\n",
    "\t\tprint(f\"\\nChatbot: {chatbot_response}\")\n",
    "\n",
    "# Execução do programa (bloco main) em Python\n",
    "if __name__ == \"__main__\":\n",
    "\tmain()"
   ]
  }
 ],
 "metadata": {
  "kernelspec": {
   "display_name": "Python 3 (ipykernel)",
   "language": "python",
   "name": "python3"
  },
  "language_info": {
   "codemirror_mode": {
    "name": "ipython",
    "version": 3
   },
   "file_extension": ".py",
   "mimetype": "text/x-python",
   "name": "python",
   "nbconvert_exporter": "python",
   "pygments_lexer": "ipython3",
   "version": "3.9.13"
  }
 },
 "nbformat": 4,
 "nbformat_minor": 5
}
